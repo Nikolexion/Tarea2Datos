{
  "cells": [
    {
      "cell_type": "markdown",
      "metadata": {
        "id": "Vr9xSXXcwsAD"
      },
      "source": [
        "# **$\\bullet$ Nicolás López Cid**\n",
        "---"
      ]
    },
    {
      "cell_type": "markdown",
      "metadata": {
        "id": "t83hic1N5FXL"
      },
      "source": [
        "* Cada respuesta debe ser explicada claramente sin dejar espacio a dobles interpretaciones\n",
        "* El código de la tarea debe estar comentado.\n",
        "* Está bien discutir las respuestas con compañeros/as. Está bien buscar la respuesta en internet. No está bien entregar código escrito por otras personas ya sea compañeros, código obtenido por internet u otros.\n",
        "* Todo código entregado debe ser escrito completamente por usted. De lo contrario, su tarea será penalizada con la nota mínima."
      ]
    },
    {
      "cell_type": "markdown",
      "metadata": {
        "id": "vnnU12bkwmKo"
      },
      "source": [
        "# **Problema 1** (4 puntos)\n",
        "## ***Clasificación*** Implemente 2 modelos y compare"
      ]
    },
    {
      "cell_type": "markdown",
      "metadata": {
        "id": "52SdPrxiIOkw"
      },
      "source": [
        "El conjunto de datos contiene registros anonimizados sobre el comportamiento de estudiantes en redes sociales y los resultados relacionados en su vida. Abarca múltiples países y niveles académicos, centrándose en dimensiones clave como la intensidad de uso, las plataformas preferidas y la dinámica de relaciones. Cada fila representa la respuesta de un estudiante a la encuesta.\n",
        "\n",
        "**Población:** Estudiantes de entre 16 y 25 años matriculados en enseñanza media, programas de pregrado o postgrado.\n",
        "\n",
        "**Geografía:** Internacional.\n",
        "\n",
        "**Período:** Datos recopilados mediante una encuesta en línea realizada una sola vez durante el primer trimestre de 2025.\n",
        "\n",
        "**Diseño de la encuesta:** Preguntas adaptadas de escalas validadas sobre adicción a redes sociales (por ejemplo, Bergen Social Media Addiction Scale) e índices de conflicto en relaciones.\n",
        "\n",
        "**Reclutamiento:** Participantes reclutados a través de listas de correo universitarias y plataformas de redes sociales, asegurando diversidad en nivel académico y país.\n",
        "\n",
        "*   Sexo = 0: femenino; 1: masculino\n",
        "*   Nivel académico = 0: enseñanza media; 1:pregrado; 2:postgrado\n",
        "*   Score_salud_mental = 1: pobre a 10: excelente\n",
        "*   Score_adiccion = 1: bajo a 10: alto."
      ]
    },
    {
      "cell_type": "code",
      "execution_count": 2,
      "metadata": {
        "id": "BXXQDNP774gT"
      },
      "outputs": [],
      "source": [
        "import pandas as pd\n",
        "import numpy as np\n",
        "import matplotlib.pyplot as plt\n",
        "import seaborn as sns"
      ]
    },
    {
      "cell_type": "markdown",
      "metadata": {
        "id": "IPy8avY_asCg"
      },
      "source": [
        "**$\\cdot$ Exploración de datos:**"
      ]
    },
    {
      "cell_type": "code",
      "execution_count": null,
      "metadata": {
        "id": "Fr4TjL7t75xD"
      },
      "outputs": [
        {
          "data": {
            "application/vnd.microsoft.datawrangler.viewer.v0+json": {
              "columns": [
                {
                  "name": "ID",
                  "rawType": "int64",
                  "type": "integer"
                },
                {
                  "name": "Edad",
                  "rawType": "int64",
                  "type": "integer"
                },
                {
                  "name": "Sexo",
                  "rawType": "int64",
                  "type": "integer"
                },
                {
                  "name": "Nivel_academico",
                  "rawType": "int64",
                  "type": "integer"
                },
                {
                  "name": "Pais",
                  "rawType": "object",
                  "type": "string"
                },
                {
                  "name": "Prom_diario_uso_hrs",
                  "rawType": "float64",
                  "type": "float"
                },
                {
                  "name": "Plataforma_fav",
                  "rawType": "object",
                  "type": "string"
                },
                {
                  "name": "Afecta_performance_academico",
                  "rawType": "object",
                  "type": "string"
                },
                {
                  "name": "Hrs_sueo_por_noche",
                  "rawType": "float64",
                  "type": "float"
                },
                {
                  "name": "Score_salud_mental",
                  "rawType": "int64",
                  "type": "integer"
                },
                {
                  "name": "Relaciones",
                  "rawType": "object",
                  "type": "string"
                },
                {
                  "name": "Conflictos_Social_Media",
                  "rawType": "int64",
                  "type": "integer"
                },
                {
                  "name": "Score_adiccion",
                  "rawType": "int64",
                  "type": "integer"
                }
              ],
              "ref": "86bb0137-3e89-4b70-95cd-22fb7e601de5",
              "rows": [
                [
                  "1",
                  "19",
                  "0",
                  "1",
                  "Bangladesh",
                  "5.2",
                  "Instagram",
                  "Si",
                  "6.5",
                  "6",
                  "En relacion",
                  "3",
                  "8"
                ],
                [
                  "2",
                  "22",
                  "1",
                  "2",
                  "India",
                  "2.1",
                  "Twitter",
                  "No",
                  "7.5",
                  "8",
                  "Soltero-a",
                  "0",
                  "3"
                ],
                [
                  "3",
                  "20",
                  "0",
                  "1",
                  "USA",
                  "6.0",
                  "TikTok",
                  "Si",
                  "5.0",
                  "5",
                  "Complicado",
                  "4",
                  "9"
                ],
                [
                  "4",
                  "18",
                  "1",
                  "0",
                  "UK",
                  "3.0",
                  "YouTube",
                  "No",
                  "7.0",
                  "7",
                  "Soltero-a",
                  "1",
                  "4"
                ],
                [
                  "5",
                  "21",
                  "1",
                  "2",
                  "Canada",
                  "4.5",
                  "Facebook",
                  "Si",
                  "6.0",
                  "6",
                  "En relacion",
                  "2",
                  "7"
                ],
                [
                  "6",
                  "19",
                  "0",
                  "1",
                  "Australia",
                  "7.2",
                  "Instagram",
                  "Si",
                  "4.5",
                  "4",
                  "Complicado",
                  "5",
                  "9"
                ],
                [
                  "7",
                  "23",
                  "1",
                  "2",
                  "Germany",
                  "1.5",
                  "LinkedIn",
                  "No",
                  "8.0",
                  "9",
                  "Soltero-a",
                  "0",
                  "2"
                ],
                [
                  "8",
                  "20",
                  "0",
                  "1",
                  "Brazil",
                  "5.8",
                  "Snapchat",
                  "Si",
                  "6.0",
                  "6",
                  "En relacion",
                  "2",
                  "8"
                ],
                [
                  "9",
                  "18",
                  "1",
                  "0",
                  "Japan",
                  "4.0",
                  "TikTok",
                  "No",
                  "6.5",
                  "7",
                  "Soltero-a",
                  "1",
                  "5"
                ],
                [
                  "10",
                  "21",
                  "0",
                  "2",
                  "South Korea",
                  "3.3",
                  "Instagram",
                  "No",
                  "7.0",
                  "7",
                  "En relacion",
                  "1",
                  "4"
                ],
                [
                  "11",
                  "19",
                  "1",
                  "1",
                  "France",
                  "4.8",
                  "Snapchat",
                  "Si",
                  "6.2",
                  "5",
                  "Complicado",
                  "3",
                  "7"
                ],
                [
                  "12",
                  "20",
                  "0",
                  "1",
                  "Spain",
                  "5.5",
                  "TikTok",
                  "Si",
                  "5.8",
                  "6",
                  "En relacion",
                  "2",
                  "8"
                ],
                [
                  "13",
                  "22",
                  "1",
                  "2",
                  "Italy",
                  "2.8",
                  "LinkedIn",
                  "No",
                  "7.2",
                  "8",
                  "Soltero-a",
                  "1",
                  "4"
                ],
                [
                  "14",
                  "18",
                  "0",
                  "0",
                  "Mexico",
                  "6.5",
                  "Instagram",
                  "Si",
                  "5.5",
                  "5",
                  "Soltero-a",
                  "4",
                  "9"
                ],
                [
                  "15",
                  "21",
                  "1",
                  "1",
                  "Russia",
                  "3.7",
                  "YouTube",
                  "No",
                  "6.8",
                  "7",
                  "En relacion",
                  "2",
                  "5"
                ],
                [
                  "16",
                  "20",
                  "0",
                  "1",
                  "China",
                  "4.2",
                  "TikTok",
                  "Si",
                  "6.0",
                  "6",
                  "Complicado",
                  "3",
                  "7"
                ],
                [
                  "17",
                  "24",
                  "1",
                  "2",
                  "Sweden",
                  "2.0",
                  "LinkedIn",
                  "No",
                  "7.8",
                  "8",
                  "Soltero-a",
                  "0",
                  "3"
                ],
                [
                  "18",
                  "19",
                  "0",
                  "0",
                  "Norway",
                  "5.0",
                  "Instagram",
                  "Si",
                  "5.7",
                  "5",
                  "En relacion",
                  "3",
                  "8"
                ],
                [
                  "19",
                  "21",
                  "1",
                  "1",
                  "Denmark",
                  "3.5",
                  "Facebook",
                  "No",
                  "6.7",
                  "7",
                  "Soltero-a",
                  "1",
                  "5"
                ],
                [
                  "20",
                  "20",
                  "0",
                  "1",
                  "Netherlands",
                  "4.7",
                  "Snapchat",
                  "Si",
                  "5.9",
                  "6",
                  "Complicado",
                  "3",
                  "7"
                ],
                [
                  "21",
                  "18",
                  "1",
                  "0",
                  "Belgium",
                  "5.3",
                  "TikTok",
                  "Si",
                  "5.5",
                  "5",
                  "Soltero-a",
                  "4",
                  "8"
                ],
                [
                  "22",
                  "23",
                  "0",
                  "2",
                  "Switzerland",
                  "2.5",
                  "LinkedIn",
                  "No",
                  "7.3",
                  "8",
                  "En relacion",
                  "1",
                  "4"
                ],
                [
                  "23",
                  "19",
                  "1",
                  "1",
                  "Austria",
                  "4.9",
                  "Instagram",
                  "Si",
                  "5.8",
                  "6",
                  "Complicado",
                  "3",
                  "7"
                ],
                [
                  "24",
                  "20",
                  "0",
                  "1",
                  "Portugal",
                  "5.7",
                  "TikTok",
                  "Si",
                  "5.4",
                  "5",
                  "Soltero-a",
                  "4",
                  "8"
                ],
                [
                  "25",
                  "22",
                  "1",
                  "2",
                  "Greece",
                  "3.2",
                  "Facebook",
                  "No",
                  "6.9",
                  "7",
                  "En relacion",
                  "2",
                  "5"
                ],
                [
                  "26",
                  "19",
                  "0",
                  "0",
                  "Ireland",
                  "6.1",
                  "Instagram",
                  "Si",
                  "5.2",
                  "5",
                  "Complicado",
                  "4",
                  "9"
                ],
                [
                  "27",
                  "21",
                  "1",
                  "1",
                  "New Zealand",
                  "3.8",
                  "YouTube",
                  "No",
                  "6.6",
                  "7",
                  "Soltero-a",
                  "1",
                  "5"
                ],
                [
                  "28",
                  "20",
                  "0",
                  "1",
                  "Singapore",
                  "4.4",
                  "TikTok",
                  "Si",
                  "5.9",
                  "6",
                  "En relacion",
                  "3",
                  "7"
                ],
                [
                  "29",
                  "24",
                  "1",
                  "2",
                  "Malaysia",
                  "2.2",
                  "LinkedIn",
                  "No",
                  "7.4",
                  "8",
                  "Soltero-a",
                  "0",
                  "3"
                ],
                [
                  "30",
                  "19",
                  "0",
                  "0",
                  "Thailand",
                  "5.9",
                  "Instagram",
                  "Si",
                  "5.3",
                  "5",
                  "Complicado",
                  "4",
                  "8"
                ],
                [
                  "31",
                  "21",
                  "1",
                  "1",
                  "Vietnam",
                  "3.6",
                  "Facebook",
                  "No",
                  "6.7",
                  "7",
                  "Soltero-a",
                  "1",
                  "5"
                ],
                [
                  "32",
                  "20",
                  "0",
                  "1",
                  "Philippines",
                  "4.8",
                  "Snapchat",
                  "Si",
                  "5.7",
                  "6",
                  "En relacion",
                  "3",
                  "7"
                ],
                [
                  "33",
                  "18",
                  "1",
                  "0",
                  "Indonesia",
                  "5.4",
                  "TikTok",
                  "Si",
                  "5.4",
                  "5",
                  "Complicado",
                  "4",
                  "8"
                ],
                [
                  "34",
                  "23",
                  "0",
                  "2",
                  "Taiwan",
                  "2.6",
                  "LinkedIn",
                  "No",
                  "7.2",
                  "8",
                  "Soltero-a",
                  "1",
                  "4"
                ],
                [
                  "35",
                  "19",
                  "1",
                  "1",
                  "Hong Kong",
                  "4.7",
                  "Instagram",
                  "Si",
                  "5.8",
                  "6",
                  "En relacion",
                  "3",
                  "7"
                ],
                [
                  "36",
                  "20",
                  "0",
                  "1",
                  "Turkey",
                  "5.6",
                  "TikTok",
                  "Si",
                  "5.5",
                  "5",
                  "Complicado",
                  "4",
                  "8"
                ],
                [
                  "37",
                  "22",
                  "1",
                  "2",
                  "Israel",
                  "3.1",
                  "Facebook",
                  "No",
                  "6.8",
                  "7",
                  "Soltero-a",
                  "1",
                  "5"
                ],
                [
                  "38",
                  "19",
                  "0",
                  "0",
                  "UAE",
                  "6.2",
                  "Instagram",
                  "Si",
                  "5.1",
                  "5",
                  "En relacion",
                  "4",
                  "9"
                ],
                [
                  "39",
                  "21",
                  "1",
                  "1",
                  "Egypt",
                  "3.9",
                  "YouTube",
                  "No",
                  "6.5",
                  "7",
                  "Complicado",
                  "2",
                  "6"
                ],
                [
                  "40",
                  "20",
                  "0",
                  "1",
                  "Morocco",
                  "4.5",
                  "TikTok",
                  "Si",
                  "5.8",
                  "6",
                  "Soltero-a",
                  "3",
                  "7"
                ],
                [
                  "41",
                  "24",
                  "1",
                  "2",
                  "South Africa",
                  "2.3",
                  "LinkedIn",
                  "No",
                  "7.3",
                  "8",
                  "En relacion",
                  "1",
                  "4"
                ],
                [
                  "42",
                  "19",
                  "0",
                  "0",
                  "Nigeria",
                  "5.8",
                  "Instagram",
                  "Si",
                  "5.4",
                  "5",
                  "Complicado",
                  "4",
                  "8"
                ],
                [
                  "43",
                  "21",
                  "1",
                  "1",
                  "Kenya",
                  "3.7",
                  "Facebook",
                  "No",
                  "6.6",
                  "7",
                  "Soltero-a",
                  "2",
                  "5"
                ],
                [
                  "44",
                  "20",
                  "0",
                  "1",
                  "Ghana",
                  "4.6",
                  "Snapchat",
                  "Si",
                  "5.7",
                  "6",
                  "En relacion",
                  "3",
                  "7"
                ],
                [
                  "45",
                  "18",
                  "1",
                  "0",
                  "Argentina",
                  "5.5",
                  "TikTok",
                  "Si",
                  "5.3",
                  "5",
                  "Soltero-a",
                  "4",
                  "8"
                ],
                [
                  "46",
                  "23",
                  "0",
                  "2",
                  "Chile",
                  "2.7",
                  "LinkedIn",
                  "No",
                  "7.1",
                  "8",
                  "Complicado",
                  "1",
                  "4"
                ],
                [
                  "47",
                  "19",
                  "1",
                  "1",
                  "Colombia",
                  "4.8",
                  "Instagram",
                  "Si",
                  "5.9",
                  "6",
                  "En relacion",
                  "3",
                  "7"
                ],
                [
                  "48",
                  "20",
                  "0",
                  "1",
                  "Peru",
                  "5.5",
                  "TikTok",
                  "Si",
                  "5.6",
                  "5",
                  "Soltero-a",
                  "4",
                  "8"
                ],
                [
                  "49",
                  "22",
                  "1",
                  "2",
                  "Venezuela",
                  "3.3",
                  "Facebook",
                  "No",
                  "6.7",
                  "7",
                  "En relacion",
                  "2",
                  "5"
                ],
                [
                  "50",
                  "19",
                  "0",
                  "0",
                  "Ecuador",
                  "6.3",
                  "Instagram",
                  "Si",
                  "5.2",
                  "5",
                  "Complicado",
                  "4",
                  "9"
                ]
              ],
              "shape": {
                "columns": 12,
                "rows": 705
              }
            },
            "text/html": [
              "<div>\n",
              "<style scoped>\n",
              "    .dataframe tbody tr th:only-of-type {\n",
              "        vertical-align: middle;\n",
              "    }\n",
              "\n",
              "    .dataframe tbody tr th {\n",
              "        vertical-align: top;\n",
              "    }\n",
              "\n",
              "    .dataframe thead th {\n",
              "        text-align: right;\n",
              "    }\n",
              "</style>\n",
              "<table border=\"1\" class=\"dataframe\">\n",
              "  <thead>\n",
              "    <tr style=\"text-align: right;\">\n",
              "      <th></th>\n",
              "      <th>Edad</th>\n",
              "      <th>Sexo</th>\n",
              "      <th>Nivel_academico</th>\n",
              "      <th>Pais</th>\n",
              "      <th>Prom_diario_uso_hrs</th>\n",
              "      <th>Plataforma_fav</th>\n",
              "      <th>Afecta_performance_academico</th>\n",
              "      <th>Hrs_sueo_por_noche</th>\n",
              "      <th>Score_salud_mental</th>\n",
              "      <th>Relaciones</th>\n",
              "      <th>Conflictos_Social_Media</th>\n",
              "      <th>Score_adiccion</th>\n",
              "    </tr>\n",
              "    <tr>\n",
              "      <th>ID</th>\n",
              "      <th></th>\n",
              "      <th></th>\n",
              "      <th></th>\n",
              "      <th></th>\n",
              "      <th></th>\n",
              "      <th></th>\n",
              "      <th></th>\n",
              "      <th></th>\n",
              "      <th></th>\n",
              "      <th></th>\n",
              "      <th></th>\n",
              "      <th></th>\n",
              "    </tr>\n",
              "  </thead>\n",
              "  <tbody>\n",
              "    <tr>\n",
              "      <th>1</th>\n",
              "      <td>19</td>\n",
              "      <td>0</td>\n",
              "      <td>1</td>\n",
              "      <td>Bangladesh</td>\n",
              "      <td>5.2</td>\n",
              "      <td>Instagram</td>\n",
              "      <td>Si</td>\n",
              "      <td>6.5</td>\n",
              "      <td>6</td>\n",
              "      <td>En relacion</td>\n",
              "      <td>3</td>\n",
              "      <td>8</td>\n",
              "    </tr>\n",
              "    <tr>\n",
              "      <th>2</th>\n",
              "      <td>22</td>\n",
              "      <td>1</td>\n",
              "      <td>2</td>\n",
              "      <td>India</td>\n",
              "      <td>2.1</td>\n",
              "      <td>Twitter</td>\n",
              "      <td>No</td>\n",
              "      <td>7.5</td>\n",
              "      <td>8</td>\n",
              "      <td>Soltero-a</td>\n",
              "      <td>0</td>\n",
              "      <td>3</td>\n",
              "    </tr>\n",
              "    <tr>\n",
              "      <th>3</th>\n",
              "      <td>20</td>\n",
              "      <td>0</td>\n",
              "      <td>1</td>\n",
              "      <td>USA</td>\n",
              "      <td>6.0</td>\n",
              "      <td>TikTok</td>\n",
              "      <td>Si</td>\n",
              "      <td>5.0</td>\n",
              "      <td>5</td>\n",
              "      <td>Complicado</td>\n",
              "      <td>4</td>\n",
              "      <td>9</td>\n",
              "    </tr>\n",
              "    <tr>\n",
              "      <th>4</th>\n",
              "      <td>18</td>\n",
              "      <td>1</td>\n",
              "      <td>0</td>\n",
              "      <td>UK</td>\n",
              "      <td>3.0</td>\n",
              "      <td>YouTube</td>\n",
              "      <td>No</td>\n",
              "      <td>7.0</td>\n",
              "      <td>7</td>\n",
              "      <td>Soltero-a</td>\n",
              "      <td>1</td>\n",
              "      <td>4</td>\n",
              "    </tr>\n",
              "    <tr>\n",
              "      <th>5</th>\n",
              "      <td>21</td>\n",
              "      <td>1</td>\n",
              "      <td>2</td>\n",
              "      <td>Canada</td>\n",
              "      <td>4.5</td>\n",
              "      <td>Facebook</td>\n",
              "      <td>Si</td>\n",
              "      <td>6.0</td>\n",
              "      <td>6</td>\n",
              "      <td>En relacion</td>\n",
              "      <td>2</td>\n",
              "      <td>7</td>\n",
              "    </tr>\n",
              "    <tr>\n",
              "      <th>...</th>\n",
              "      <td>...</td>\n",
              "      <td>...</td>\n",
              "      <td>...</td>\n",
              "      <td>...</td>\n",
              "      <td>...</td>\n",
              "      <td>...</td>\n",
              "      <td>...</td>\n",
              "      <td>...</td>\n",
              "      <td>...</td>\n",
              "      <td>...</td>\n",
              "      <td>...</td>\n",
              "      <td>...</td>\n",
              "    </tr>\n",
              "    <tr>\n",
              "      <th>701</th>\n",
              "      <td>20</td>\n",
              "      <td>0</td>\n",
              "      <td>1</td>\n",
              "      <td>Italy</td>\n",
              "      <td>4.7</td>\n",
              "      <td>TikTok</td>\n",
              "      <td>No</td>\n",
              "      <td>7.2</td>\n",
              "      <td>7</td>\n",
              "      <td>En relacion</td>\n",
              "      <td>2</td>\n",
              "      <td>5</td>\n",
              "    </tr>\n",
              "    <tr>\n",
              "      <th>702</th>\n",
              "      <td>23</td>\n",
              "      <td>1</td>\n",
              "      <td>2</td>\n",
              "      <td>Russia</td>\n",
              "      <td>6.8</td>\n",
              "      <td>Instagram</td>\n",
              "      <td>Si</td>\n",
              "      <td>5.9</td>\n",
              "      <td>4</td>\n",
              "      <td>Soltero-a</td>\n",
              "      <td>5</td>\n",
              "      <td>9</td>\n",
              "    </tr>\n",
              "    <tr>\n",
              "      <th>703</th>\n",
              "      <td>21</td>\n",
              "      <td>0</td>\n",
              "      <td>1</td>\n",
              "      <td>China</td>\n",
              "      <td>5.6</td>\n",
              "      <td>WeChat</td>\n",
              "      <td>Si</td>\n",
              "      <td>6.7</td>\n",
              "      <td>6</td>\n",
              "      <td>En relacion</td>\n",
              "      <td>3</td>\n",
              "      <td>7</td>\n",
              "    </tr>\n",
              "    <tr>\n",
              "      <th>704</th>\n",
              "      <td>24</td>\n",
              "      <td>1</td>\n",
              "      <td>2</td>\n",
              "      <td>Japan</td>\n",
              "      <td>4.3</td>\n",
              "      <td>Twitter</td>\n",
              "      <td>No</td>\n",
              "      <td>7.5</td>\n",
              "      <td>8</td>\n",
              "      <td>Soltero-a</td>\n",
              "      <td>2</td>\n",
              "      <td>4</td>\n",
              "    </tr>\n",
              "    <tr>\n",
              "      <th>705</th>\n",
              "      <td>19</td>\n",
              "      <td>0</td>\n",
              "      <td>1</td>\n",
              "      <td>Poland</td>\n",
              "      <td>6.2</td>\n",
              "      <td>Facebook</td>\n",
              "      <td>Si</td>\n",
              "      <td>6.3</td>\n",
              "      <td>5</td>\n",
              "      <td>Soltero-a</td>\n",
              "      <td>4</td>\n",
              "      <td>8</td>\n",
              "    </tr>\n",
              "  </tbody>\n",
              "</table>\n",
              "<p>705 rows × 12 columns</p>\n",
              "</div>"
            ],
            "text/plain": [
              "     Edad  Sexo  Nivel_academico        Pais  Prom_diario_uso_hrs  \\\n",
              "ID                                                                  \n",
              "1      19     0                1  Bangladesh                  5.2   \n",
              "2      22     1                2       India                  2.1   \n",
              "3      20     0                1         USA                  6.0   \n",
              "4      18     1                0          UK                  3.0   \n",
              "5      21     1                2      Canada                  4.5   \n",
              "..    ...   ...              ...         ...                  ...   \n",
              "701    20     0                1       Italy                  4.7   \n",
              "702    23     1                2      Russia                  6.8   \n",
              "703    21     0                1       China                  5.6   \n",
              "704    24     1                2       Japan                  4.3   \n",
              "705    19     0                1      Poland                  6.2   \n",
              "\n",
              "    Plataforma_fav Afecta_performance_academico  Hrs_sueo_por_noche  \\\n",
              "ID                                                                     \n",
              "1        Instagram                           Si                  6.5   \n",
              "2          Twitter                           No                  7.5   \n",
              "3           TikTok                           Si                  5.0   \n",
              "4          YouTube                           No                  7.0   \n",
              "5         Facebook                           Si                  6.0   \n",
              "..             ...                          ...                  ...   \n",
              "701         TikTok                           No                  7.2   \n",
              "702      Instagram                           Si                  5.9   \n",
              "703         WeChat                           Si                  6.7   \n",
              "704        Twitter                           No                  7.5   \n",
              "705       Facebook                           Si                  6.3   \n",
              "\n",
              "     Score_salud_mental   Relaciones  Conflictos_Social_Media  Score_adiccion  \n",
              "ID                                                                             \n",
              "1                     6  En relacion                        3               8  \n",
              "2                     8    Soltero-a                        0               3  \n",
              "3                     5   Complicado                        4               9  \n",
              "4                     7    Soltero-a                        1               4  \n",
              "5                     6  En relacion                        2               7  \n",
              "..                  ...          ...                      ...             ...  \n",
              "701                   7  En relacion                        2               5  \n",
              "702                   4    Soltero-a                        5               9  \n",
              "703                   6  En relacion                        3               7  \n",
              "704                   8    Soltero-a                        2               4  \n",
              "705                   5    Soltero-a                        4               8  \n",
              "\n",
              "[705 rows x 12 columns]"
            ]
          },
          "execution_count": 5,
          "metadata": {},
          "output_type": "execute_result"
        }
      ],
      "source": [
        "# Exploración de datos (inserte cuantas líneas estime conveniente)\n",
        "df = pd.read_csv('P1_Adiccion-RRSS.csv', sep=';', encoding='latin1', index_col='ID')\n",
        "df"
      ]
    },
    {
      "cell_type": "code",
      "execution_count": 8,
      "metadata": {},
      "outputs": [
        {
          "name": "stdout",
          "output_type": "stream",
          "text": [
            "<class 'pandas.core.frame.DataFrame'>\n",
            "Index: 705 entries, 1 to 705\n",
            "Data columns (total 12 columns):\n",
            " #   Column                        Non-Null Count  Dtype  \n",
            "---  ------                        --------------  -----  \n",
            " 0   Edad                          705 non-null    int64  \n",
            " 1   Sexo                          705 non-null    int64  \n",
            " 2   Nivel_academico               705 non-null    int64  \n",
            " 3   Pais                          705 non-null    object \n",
            " 4   Prom_diario_uso_hrs           705 non-null    float64\n",
            " 5   Plataforma_fav                705 non-null    object \n",
            " 6   Afecta_performance_academico  705 non-null    object \n",
            " 7   Hrs_sueo_por_noche           705 non-null    float64\n",
            " 8   Score_salud_mental            705 non-null    int64  \n",
            " 9   Relaciones                    705 non-null    object \n",
            " 10  Conflictos_Social_Media       705 non-null    int64  \n",
            " 11  Score_adiccion                705 non-null    int64  \n",
            "dtypes: float64(2), int64(6), object(4)\n",
            "memory usage: 71.6+ KB\n"
          ]
        }
      ],
      "source": [
        "df.info()"
      ]
    },
    {
      "cell_type": "code",
      "execution_count": 9,
      "metadata": {},
      "outputs": [
        {
          "name": "stdout",
          "output_type": "stream",
          "text": [
            "Edad: [19 22 20 18 21 23 24]\n",
            "Sexo: [0 1]\n",
            "Nivel_academico: [1 2 0]\n",
            "Pais: ['Bangladesh' 'India' 'USA' 'UK' 'Canada' 'Australia' 'Germany' 'Brazil'\n",
            " 'Japan' 'South Korea' 'France' 'Spain' 'Italy' 'Mexico' 'Russia' 'China'\n",
            " 'Sweden' 'Norway' 'Denmark' 'Netherlands' 'Belgium' 'Switzerland'\n",
            " 'Austria' 'Portugal' 'Greece' 'Ireland' 'New Zealand' 'Singapore'\n",
            " 'Malaysia' 'Thailand' 'Vietnam' 'Philippines' 'Indonesia' 'Taiwan'\n",
            " 'Hong Kong' 'Turkey' 'Israel' 'UAE' 'Egypt' 'Morocco' 'South Africa'\n",
            " 'Nigeria' 'Kenya' 'Ghana' 'Argentina' 'Chile' 'Colombia' 'Peru'\n",
            " 'Venezuela' 'Ecuador' 'Uruguay' 'Paraguay' 'Bolivia' 'Costa Rica'\n",
            " 'Panama' 'Jamaica' 'Trinidad' 'Bahamas' 'Iceland' 'Finland' 'Poland'\n",
            " 'Romania' 'Hungary' 'Czech Republic' 'Slovakia' 'Croatia' 'Serbia'\n",
            " 'Slovenia' 'Bulgaria' 'Estonia' 'Latvia' 'Lithuania' 'Ukraine' 'Moldova'\n",
            " 'Belarus' 'Kazakhstan' 'Uzbekistan' 'Kyrgyzstan' 'Tajikistan' 'Armenia'\n",
            " 'Georgia' 'Azerbaijan' 'Cyprus' 'Malta' 'Luxembourg' 'Monaco' 'Andorra'\n",
            " 'San Marino' 'Vatican City' 'Liechtenstein' 'Montenegro' 'Albania'\n",
            " 'North Macedonia' 'Kosovo' 'Bosnia' 'Qatar' 'Kuwait' 'Bahrain' 'Oman'\n",
            " 'Jordan' 'Lebanon' 'Iraq' 'Yemen' 'Syria' 'Afghanistan' 'Pakistan'\n",
            " 'Nepal' 'Bhutan' 'Sri Lanka' 'Maldives']\n",
            "Prom_diario_uso_hrs: [5.2 2.1 6.  3.  4.5 7.2 1.5 5.8 4.  3.3 4.8 5.5 2.8 6.5 3.7 4.2 2.  5.\n",
            " 3.5 4.7 5.3 2.5 4.9 5.7 3.2 6.1 3.8 4.4 2.2 5.9 3.6 5.4 2.6 5.6 3.1 6.2\n",
            " 3.9 2.3 4.6 2.7 6.3 2.4 2.9 5.1 4.3 4.1 3.4 6.4 7.  6.8 6.9 6.7 6.6 7.1\n",
            " 7.3 7.4 7.5 7.6 7.7 7.8 7.9 8.  8.1 8.2 8.3 8.4 8.5]\n",
            "Plataforma_fav: ['Instagram' 'Twitter' 'TikTok' 'YouTube' 'Facebook' 'LinkedIn' 'Snapchat'\n",
            " 'LINE' 'KakaoTalk' 'VKontakte' 'WhatsApp' 'WeChat']\n",
            "Afecta_performance_academico: ['Si' 'No']\n",
            "Hrs_sueo_por_noche: [6.5 7.5 5.  7.  6.  4.5 8.  6.2 5.8 7.2 5.5 6.8 7.8 5.7 6.7 5.9 7.3 5.4\n",
            " 6.9 5.2 6.6 7.4 5.3 5.1 7.1 5.6 6.4 6.3 6.1 7.6 7.7 7.9 8.1 8.2 8.3 4.9\n",
            " 8.4 4.8 8.5 4.7 8.6 4.6 4.4 8.7 4.3 8.8 4.2 8.9 4.1 9.  9.1 9.2 9.3 9.4\n",
            " 4.  9.5 3.9 9.6 3.8]\n",
            "Score_salud_mental: [6 8 5 7 4 9]\n",
            "Relaciones: ['En relacion' 'Soltero-a' 'Complicado']\n",
            "Conflictos_Social_Media: [3 0 4 1 2 5]\n",
            "Score_adiccion: [8 3 9 4 7 2 5 6]\n"
          ]
        }
      ],
      "source": [
        "for col in df.columns:\n",
        "    print(f\"{col}: {df[col].unique()}\")"
      ]
    },
    {
      "cell_type": "markdown",
      "metadata": {
        "id": "5kjjo4zOay5l"
      },
      "source": [
        "**$\\cdot$ Modelo de clasificación 1:**"
      ]
    },
    {
      "cell_type": "code",
      "execution_count": null,
      "metadata": {
        "id": "sSdFoJn_TksE"
      },
      "outputs": [],
      "source": [
        "# Implemente modelo de clasificación 1:"
      ]
    },
    {
      "cell_type": "markdown",
      "metadata": {
        "id": "j8UMKWmua3Nx"
      },
      "source": [
        "**$\\cdot$ Modelo de clasificación 2:**"
      ]
    },
    {
      "cell_type": "code",
      "execution_count": null,
      "metadata": {
        "id": "dmfjlPT7UUPL"
      },
      "outputs": [],
      "source": [
        "# Implemente modelo de clasificación 2:"
      ]
    },
    {
      "cell_type": "markdown",
      "metadata": {
        "id": "JZQVEYk9a8x5"
      },
      "source": [
        "**$\\cdot$ Análisis de métricas de comparación:**"
      ]
    },
    {
      "cell_type": "code",
      "execution_count": null,
      "metadata": {
        "id": "o5g5TLUzUXjY"
      },
      "outputs": [],
      "source": [
        "# Comparativa y evaluación de modelos"
      ]
    },
    {
      "cell_type": "markdown",
      "metadata": {
        "id": "YRUsFAx4U_mI"
      },
      "source": [
        "**Además:**\n",
        "\n",
        "*   Realice una optimización de los modelos en caso de ser necesario. ¿Qué configuración logra el mejor desempeño?\n",
        "*   Analice el balance de clases en el conjunto de entrenamiento. Si hay desbalance, aplique técnicas para mejorar en caso de ser necesario. ¿Cuál técnica mejora el desempeño general del modelo? Justifica con métricas y gráficos.\n",
        "*   Explicar las predicciones individuales del modelo. Elija tres estudiantes del conjunto de test y explique por qué fueron clasificados como \"adictos\" o \"no adictos\" (por ejemplo).\n",
        "*   Realice visualizaciones que estén relacionadas con sus comentarios y permita explorar la relación entre horas de sueño, uso diario y nivel de adicción predicho por el modelo.\n",
        "\n",
        "\n",
        "\n"
      ]
    },
    {
      "cell_type": "markdown",
      "metadata": {
        "id": "9_T8sAPJvYvR"
      },
      "source": [
        "# **Problema 2**\n",
        "## ***Reducción de dimensionalidad***"
      ]
    },
    {
      "cell_type": "markdown",
      "metadata": {
        "id": "bFV6UjEeRJpY"
      },
      "source": [
        "## **$\\bullet$ Pregunta 1 (2.0 Puntos)**\n",
        "\n",
        "Usted deberá comparar dos algoritmos de reducción de dimensionalidad. El primero es Principal component analysis (PCA), el segundo queda a su elección."
      ]
    },
    {
      "cell_type": "markdown",
      "metadata": {
        "id": "TEtOVj9vPjc2"
      },
      "source": [
        "### **$\\cdot$ Pregunta 1.1 **\n",
        "\n",
        "Explique en sus palabras el funcionamiento de cada algoritmo de forma detallada. Esto es: explicar su funcionamiento, sus principales parámetros, sus limitaciones y sus ventajas por sobre otros algoritmos similares."
      ]
    },
    {
      "cell_type": "markdown",
      "metadata": {
        "id": "JCaOdLz-0Pkm"
      },
      "source": [
        "**$\\cdot$ Algoritmo 1:** *(Escriba su respuesta aquí)*"
      ]
    },
    {
      "cell_type": "code",
      "execution_count": null,
      "metadata": {
        "id": "GVn_TWnv0KaV"
      },
      "outputs": [],
      "source": []
    },
    {
      "cell_type": "markdown",
      "metadata": {
        "id": "lZekqCiU0Wim"
      },
      "source": [
        "**$\\cdot$ Algoritmo 2:** *(Escriba su respuesta aquí)*"
      ]
    },
    {
      "cell_type": "code",
      "execution_count": null,
      "metadata": {
        "id": "cHJDvJ0N0adH"
      },
      "outputs": [],
      "source": []
    },
    {
      "cell_type": "markdown",
      "metadata": {
        "id": "KCkuxe720dZW"
      },
      "source": [
        "### **$\\cdot$ Pregunta 1.2 **\n",
        "\n",
        "A modo preliminar de visualización, reduzca la dimensión de los datos a D=4 utilizando ambos algoritmos. Luego realice un gráfico de estos datos reducidos. Compare los resultados obtenidos con el algoritmo [t-SNE](https://scikit-learn.org/dev/auto_examples/manifold/plot_t_sne_perplexity.html).\n",
        "\n",
        "¿Qué algoritmo funciona mejor para visualizar los datos?\n",
        "\n",
        "¿Por qué ocurre esto?"
      ]
    },
    {
      "cell_type": "code",
      "execution_count": null,
      "metadata": {
        "id": "ZatyIv_100MP"
      },
      "outputs": [],
      "source": [
        "from sklearn.manifold import TSNE # Para graficar utilice esta implemntación de t-SNE"
      ]
    },
    {
      "cell_type": "code",
      "execution_count": null,
      "metadata": {
        "id": "uSDoXssibuzn"
      },
      "outputs": [],
      "source": []
    },
    {
      "cell_type": "markdown",
      "metadata": {
        "id": "HHBmELhC1YWO"
      },
      "source": [
        "## **$\\bullet$ Pregunta 2\n",
        "\n",
        "¿Cuantas dimensiones son suficientes para representar mis datos?\n",
        "\n",
        "En este item usted debe **justificar** bajo algún criterio la elección de la dimensión elegida para representar el conjunto de imágenes. Realice esto para ambos algoritmos seleccionados previamente y decida cual algortimo funciona mejor.\n",
        "\n",
        "> **Observación: La elección de la dimension reducida y algoritmo sin justificación no obtendrán puntaje.**"
      ]
    },
    {
      "cell_type": "markdown",
      "metadata": {
        "id": "GTHvaxVO1nGg"
      },
      "source": [
        "# **$\\bullet$ Clustering (2.0 puntos)**\n",
        "---\n",
        "En este ítem usted debe utilizar el dataset con dimensionalidad reducida visto en la pregunta anterior y aplicar un algoritmo de clustering de su elección. Para obtener todo el puntaje usted debe realizar los siguientes puntos\n",
        "\n",
        "*   Utilice alguna métrica para evaluar cuantos clusters definen correctamente su conjunto de datos (La métrica a utilizar depende del tipo de algortimo de clustering, pero las más tipicas son: *Inercia*, *Silhouette*, $BIC-AIC$, entre otros). Justifique cual es el mejor número de clusters que representan a los datos.\n",
        "*   Compare diferentes variantes de su mismo algoritmo (esto puede ser a nivel de hiperparámetros, o distintas versiones de este mismo y vea cual funciona mejor comparando su métrica y tiempo total en computación.\n",
        "*   Analice los resultados en función de cómo se organizaron los cluster, ¿qué relación tienen los datos? Ej: en el cluster 1 se agrupan los datos con características XXXXXXXX; en el cluster 2 se observan los datos YYYYYY, etc.\n",
        "\n"
      ]
    },
    {
      "cell_type": "code",
      "execution_count": null,
      "metadata": {
        "id": "6y2SPl002cf2"
      },
      "outputs": [],
      "source": []
    }
  ],
  "metadata": {
    "colab": {
      "provenance": []
    },
    "kernelspec": {
      "display_name": "3.12.5",
      "language": "python",
      "name": "python3"
    },
    "language_info": {
      "codemirror_mode": {
        "name": "ipython",
        "version": 3
      },
      "file_extension": ".py",
      "mimetype": "text/x-python",
      "name": "python",
      "nbconvert_exporter": "python",
      "pygments_lexer": "ipython3",
      "version": "3.12.5"
    }
  },
  "nbformat": 4,
  "nbformat_minor": 0
}
